{
  "nbformat": 4,
  "nbformat_minor": 0,
  "metadata": {
    "colab": {
      "name": "Hello World (in Python).ipynb",
      "provenance": []
    },
    "kernelspec": {
      "display_name": "Python 3",
      "language": "python",
      "name": "python3"
    },
    "language_info": {
      "codemirror_mode": {
        "name": "ipython",
        "version": 3
      },
      "file_extension": ".py",
      "mimetype": "text/x-python",
      "name": "python",
      "nbconvert_exporter": "python",
      "pygments_lexer": "ipython3",
      "version": "3.7.4"
    }
  },
  "cells": [
    {
      "cell_type": "markdown",
      "metadata": {
        "id": "sUyztms6tpcD"
      },
      "source": [
        "# Printing basic types"
      ]
    },
    {
      "cell_type": "code",
      "metadata": {
        "id": "yX_3K6mhpsUz"
      },
      "source": [
        "print(\"Hello World!\") "
      ],
      "execution_count": null,
      "outputs": []
    },
    {
      "cell_type": "code",
      "metadata": {
        "id": "ebQrE1xUrB7r"
      },
      "source": [
        "print(\"Hello World!\")\n",
        "print(\"Namaskar from PadhAI\")"
      ],
      "execution_count": null,
      "outputs": []
    },
    {
      "cell_type": "code",
      "metadata": {
        "id": "d-0uh16VrU18"
      },
      "source": [
        "print(\"PadhAI\")\n",
        "print(\"Padh\" + \"AI\")"
      ],
      "execution_count": null,
      "outputs": []
    },
    {
      "cell_type": "code",
      "metadata": {
        "id": "NFwPM84vroro"
      },
      "source": [
        "print(1729)"
      ],
      "execution_count": null,
      "outputs": []
    },
    {
      "cell_type": "code",
      "metadata": {
        "id": "iSzHtkXdru_7"
      },
      "source": [
        "print(1000 + 729)  # Check this with Ramanujan's entry"
      ],
      "execution_count": null,
      "outputs": []
    },
    {
      "cell_type": "code",
      "metadata": {
        "id": "Nigrs1Ier1lS"
      },
      "source": [
        "print(55/34)   # check golden ratio"
      ],
      "execution_count": null,
      "outputs": []
    },
    {
      "cell_type": "code",
      "metadata": {
        "id": "gI7cE04wsHCJ"
      },
      "source": [
        "print(1.618)"
      ],
      "execution_count": null,
      "outputs": []
    },
    {
      "cell_type": "code",
      "metadata": {
        "id": "bIv5yRd-sTHl"
      },
      "source": [
        "print(True)"
      ],
      "execution_count": null,
      "outputs": []
    },
    {
      "cell_type": "code",
      "metadata": {
        "id": "TPAlPpqGsYgh"
      },
      "source": [
        "print(False)"
      ],
      "execution_count": null,
      "outputs": []
    },
    {
      "cell_type": "code",
      "metadata": {
        "id": "ctslkzuVsc3Z"
      },
      "source": [
        "print(True or False)"
      ],
      "execution_count": null,
      "outputs": []
    },
    {
      "cell_type": "code",
      "metadata": {
        "id": "NuF8mDv_siHE"
      },
      "source": [
        "print(True and False)"
      ],
      "execution_count": null,
      "outputs": []
    },
    {
      "cell_type": "markdown",
      "metadata": {
        "id": "4WJiz_vktZMF"
      },
      "source": [
        "# Variables and inputs"
      ]
    },
    {
      "cell_type": "code",
      "metadata": {
        "id": "UcbojZjmsmGp"
      },
      "source": [
        "school = \"PadhAI\""
      ],
      "execution_count": null,
      "outputs": []
    },
    {
      "cell_type": "code",
      "metadata": {
        "id": "NSgQPqpPt4vA"
      },
      "source": [
        "print(school)"
      ],
      "execution_count": null,
      "outputs": []
    },
    {
      "cell_type": "code",
      "metadata": {
        "id": "NFtctHOzt7lO"
      },
      "source": [
        "print(type(school))"
      ],
      "execution_count": null,
      "outputs": []
    },
    {
      "cell_type": "code",
      "metadata": {
        "id": "7wm8fQ5dt_nR"
      },
      "source": [
        "print(id(school))"
      ],
      "execution_count": null,
      "outputs": []
    },
    {
      "cell_type": "code",
      "metadata": {
        "id": "dqgEvnXHuHEq"
      },
      "source": [
        "another_school = \"PadhAI\""
      ],
      "execution_count": null,
      "outputs": []
    },
    {
      "cell_type": "code",
      "metadata": {
        "id": "wmTl3W8tuTlU"
      },
      "source": [
        "print(another_school)"
      ],
      "execution_count": null,
      "outputs": []
    },
    {
      "cell_type": "code",
      "metadata": {
        "id": "BVREq21muYv-"
      },
      "source": [
        "print(id(another_school))"
      ],
      "execution_count": null,
      "outputs": []
    },
    {
      "cell_type": "code",
      "metadata": {
        "id": "8EyzeS2Oubwk"
      },
      "source": [
        "another_school = \"IIT Madras\""
      ],
      "execution_count": null,
      "outputs": []
    },
    {
      "cell_type": "code",
      "metadata": {
        "id": "WyzPSGF4uk1d"
      },
      "source": [
        "print(id(another_school))"
      ],
      "execution_count": null,
      "outputs": []
    },
    {
      "cell_type": "code",
      "metadata": {
        "id": "DG2pce6_uneL"
      },
      "source": [
        "print(\"I am studying at \" + school)"
      ],
      "execution_count": null,
      "outputs": []
    },
    {
      "cell_type": "code",
      "metadata": {
        "id": "Lg6fOrA5u-QB"
      },
      "source": [
        "r_no = 1729"
      ],
      "execution_count": null,
      "outputs": []
    },
    {
      "cell_type": "code",
      "metadata": {
        "id": "cJ96EKjZvuZo"
      },
      "source": [
        "print(type(r_no))"
      ],
      "execution_count": null,
      "outputs": []
    },
    {
      "cell_type": "code",
      "metadata": {
        "id": "TP7bcTq8vvhY"
      },
      "source": [
        "golden_ratio = 55/34"
      ],
      "execution_count": null,
      "outputs": []
    },
    {
      "cell_type": "code",
      "metadata": {
        "id": "QjwfykcjvyLc"
      },
      "source": [
        "print(type(golden_ratio))"
      ],
      "execution_count": null,
      "outputs": []
    },
    {
      "cell_type": "code",
      "metadata": {
        "id": "Ra-PK3V8v1w-"
      },
      "source": [
        "is_good = True"
      ],
      "execution_count": null,
      "outputs": []
    },
    {
      "cell_type": "code",
      "metadata": {
        "id": "-LCD5m4Lv6Lv"
      },
      "source": [
        "print(type(is_good))"
      ],
      "execution_count": null,
      "outputs": []
    },
    {
      "cell_type": "code",
      "metadata": {
        "id": "-1uAGTdEv7f9"
      },
      "source": [
        "my_name = input(\"What is your name \")"
      ],
      "execution_count": null,
      "outputs": []
    },
    {
      "cell_type": "code",
      "metadata": {
        "id": "IGw52DcowH3y"
      },
      "source": [
        "print(my_name, type(my_name))"
      ],
      "execution_count": null,
      "outputs": []
    },
    {
      "cell_type": "code",
      "metadata": {
        "id": "NI7vOwvLwK99"
      },
      "source": [
        "print(my_name + \" is studying at \" + school)"
      ],
      "execution_count": null,
      "outputs": []
    },
    {
      "cell_type": "code",
      "metadata": {
        "id": "32bUlwlCwU87"
      },
      "source": [
        "hours_per_day = input(\"How many hours per day do you study \")"
      ],
      "execution_count": null,
      "outputs": []
    },
    {
      "cell_type": "code",
      "metadata": {
        "id": "PgBZ-fxEwgZ-"
      },
      "source": [
        "print(my_name + \" studies for \" + hours_per_day + \" hours\")"
      ],
      "execution_count": null,
      "outputs": []
    },
    {
      "cell_type": "code",
      "metadata": {
        "id": "J7-LzoG8woEH"
      },
      "source": [
        "hours_per_week = hours_per_day * 7"
      ],
      "execution_count": null,
      "outputs": []
    },
    {
      "cell_type": "code",
      "metadata": {
        "id": "tqwculrBwyVz"
      },
      "source": [
        "print(my_name + \" studies for \" + hours_per_week + \" hours\")"
      ],
      "execution_count": null,
      "outputs": []
    },
    {
      "cell_type": "code",
      "metadata": {
        "id": "24ATna0qw3Kt"
      },
      "source": [
        "print(type(hours_per_day))"
      ],
      "execution_count": null,
      "outputs": []
    },
    {
      "cell_type": "code",
      "metadata": {
        "id": "ImjjYdzew-pw"
      },
      "source": [
        "hours_per_day_int = float(hours_per_day)"
      ],
      "execution_count": null,
      "outputs": []
    },
    {
      "cell_type": "code",
      "metadata": {
        "id": "mUnbvCXTxJBO"
      },
      "source": [
        "print(hours_per_day_int, type(hours_per_day_int))"
      ],
      "execution_count": null,
      "outputs": []
    },
    {
      "cell_type": "code",
      "metadata": {
        "id": "cT61tZajxNjA"
      },
      "source": [
        "hours_per_week = hours_per_day_int * 7"
      ],
      "execution_count": null,
      "outputs": []
    },
    {
      "cell_type": "code",
      "metadata": {
        "id": "mvju04oBxXnr"
      },
      "source": [
        "print(my_name + \" studies for \" + hours_per_week + \" hours\")"
      ],
      "execution_count": null,
      "outputs": []
    },
    {
      "cell_type": "code",
      "metadata": {
        "id": "uBBaJ5CRxZWX"
      },
      "source": [
        "print(my_name + \" studies for \" + str(hours_per_week) + \" hours\")"
      ],
      "execution_count": null,
      "outputs": []
    },
    {
      "cell_type": "markdown",
      "metadata": {
        "id": "xTZ4ZiuJzGjv"
      },
      "source": [
        "# String Processing"
      ]
    },
    {
      "cell_type": "code",
      "metadata": {
        "id": "1dVEAr70zBLC"
      },
      "source": [
        "topic = \"Foundations of Data Science\""
      ],
      "execution_count": null,
      "outputs": []
    },
    {
      "cell_type": "code",
      "metadata": {
        "id": "zmqU0UKzzL4k"
      },
      "source": [
        "print(topic)"
      ],
      "execution_count": null,
      "outputs": []
    },
    {
      "cell_type": "code",
      "metadata": {
        "id": "N4yxWuaNzNif"
      },
      "source": [
        "print(topic[0])"
      ],
      "execution_count": null,
      "outputs": []
    },
    {
      "cell_type": "code",
      "metadata": {
        "id": "oAiJ_C8czWQT"
      },
      "source": [
        "print(topic[1])"
      ],
      "execution_count": null,
      "outputs": []
    },
    {
      "cell_type": "code",
      "metadata": {
        "id": "ub_UWR_ozYcb"
      },
      "source": [
        "print(topic[10])"
      ],
      "execution_count": null,
      "outputs": []
    },
    {
      "cell_type": "code",
      "metadata": {
        "id": "-Z0kkrcZzZ31"
      },
      "source": [
        "print(topic[-1])"
      ],
      "execution_count": null,
      "outputs": []
    },
    {
      "cell_type": "code",
      "metadata": {
        "id": "nuEUE7xBzeSH"
      },
      "source": [
        "print(topic[-2])"
      ],
      "execution_count": null,
      "outputs": []
    },
    {
      "cell_type": "code",
      "metadata": {
        "id": "XkGAFvCSzhHm"
      },
      "source": [
        "print(topic[0:10])"
      ],
      "execution_count": null,
      "outputs": []
    },
    {
      "cell_type": "code",
      "metadata": {
        "id": "2EUhXtXqzmap"
      },
      "source": [
        "print(topic[12:16])"
      ],
      "execution_count": null,
      "outputs": []
    },
    {
      "cell_type": "code",
      "metadata": {
        "id": "iBu-9hzGzy9z"
      },
      "source": [
        "print(topic.lower())"
      ],
      "execution_count": null,
      "outputs": []
    },
    {
      "cell_type": "code",
      "metadata": {
        "id": "x0lecon80AfR"
      },
      "source": [
        "print(topic)"
      ],
      "execution_count": null,
      "outputs": []
    },
    {
      "cell_type": "code",
      "metadata": {
        "id": "BicYceS50JK5"
      },
      "source": [
        "topic = topic.lower()"
      ],
      "execution_count": null,
      "outputs": []
    },
    {
      "cell_type": "code",
      "metadata": {
        "id": "nZwCEJM20OwN"
      },
      "source": [
        "print(topic.upper())"
      ],
      "execution_count": null,
      "outputs": []
    },
    {
      "cell_type": "code",
      "metadata": {
        "id": "N19c2C9U0TRt"
      },
      "source": [
        "print(topic.islower())"
      ],
      "execution_count": null,
      "outputs": []
    },
    {
      "cell_type": "code",
      "metadata": {
        "id": "UWGUYy2M0g7j"
      },
      "source": [
        "topic = topic.upper()"
      ],
      "execution_count": null,
      "outputs": []
    },
    {
      "cell_type": "code",
      "metadata": {
        "id": "2QG555oQ0mK2"
      },
      "source": [
        "print(topic.islower())"
      ],
      "execution_count": null,
      "outputs": []
    },
    {
      "cell_type": "code",
      "metadata": {
        "id": "2kN-ulZE0nC2"
      },
      "source": [
        "print(topic.isupper())"
      ],
      "execution_count": null,
      "outputs": []
    },
    {
      "cell_type": "code",
      "metadata": {
        "id": "-AZIyOr-0oos"
      },
      "source": [
        "print(topic.find(\"DATA\"))"
      ],
      "execution_count": null,
      "outputs": []
    },
    {
      "cell_type": "code",
      "metadata": {
        "id": "MCNc5uc_0xvi"
      },
      "source": [
        "print(topic[15])"
      ],
      "execution_count": null,
      "outputs": []
    },
    {
      "cell_type": "code",
      "metadata": {
        "id": "wgLpgUlk01pv"
      },
      "source": [
        "print(topic.find(\"AI\"))"
      ],
      "execution_count": null,
      "outputs": []
    },
    {
      "cell_type": "code",
      "metadata": {
        "id": "zRaPGweO087Z"
      },
      "source": [
        "print(topic.replace(\"SCIENCE\", \"ENGINEERING\"))"
      ],
      "execution_count": null,
      "outputs": []
    },
    {
      "cell_type": "code",
      "metadata": {
        "id": "b4ttlSAB1Fd8"
      },
      "source": [
        "print(55/34)"
      ],
      "execution_count": null,
      "outputs": []
    },
    {
      "cell_type": "code",
      "metadata": {
        "id": "-obVCuMD1jhD"
      },
      "source": [
        "golden_ratio = 55/34"
      ],
      "execution_count": null,
      "outputs": []
    },
    {
      "cell_type": "code",
      "metadata": {
        "id": "CIquAsjh1mGQ"
      },
      "source": [
        "print(type(golden_ratio))"
      ],
      "execution_count": null,
      "outputs": []
    },
    {
      "cell_type": "code",
      "metadata": {
        "id": "SrtEoOGl1nc8"
      },
      "source": [
        "print(golden_ratio.is_integer())"
      ],
      "execution_count": null,
      "outputs": []
    },
    {
      "cell_type": "code",
      "metadata": {
        "id": "1V8GHcEE1saH"
      },
      "source": [
        "print(golden_ratio.as_integer_ratio())"
      ],
      "execution_count": null,
      "outputs": []
    },
    {
      "cell_type": "code",
      "metadata": {
        "id": "CtxuVqWx1zKJ"
      },
      "source": [
        "print(3642617345667313/2251799813685248)"
      ],
      "execution_count": null,
      "outputs": []
    },
    {
      "cell_type": "code",
      "metadata": {
        "id": "2M7nu2GP13un"
      },
      "source": [
        "print(55 // 34, 55/34)"
      ],
      "execution_count": null,
      "outputs": []
    },
    {
      "cell_type": "code",
      "metadata": {
        "id": "1fkt5I5b2dzd"
      },
      "source": [
        "print(55 % 34)"
      ],
      "execution_count": null,
      "outputs": []
    },
    {
      "cell_type": "code",
      "metadata": {
        "id": "JboXbWNX2fkr"
      },
      "source": [
        "print(2 ** 3)"
      ],
      "execution_count": null,
      "outputs": []
    },
    {
      "cell_type": "markdown",
      "metadata": {
        "id": "_1e_FyAD3EI7"
      },
      "source": [
        "# If, For, While Blocks"
      ]
    },
    {
      "cell_type": "code",
      "metadata": {
        "id": "YlKDJaNB3u6_"
      },
      "source": [
        "hours_per_week = 5"
      ],
      "execution_count": null,
      "outputs": []
    },
    {
      "cell_type": "code",
      "metadata": {
        "id": "GZUzOAHD2kYX"
      },
      "source": [
        "if hours_per_week > 10:\n",
        "    print(my_name + \" you are doing well\")"
      ],
      "execution_count": null,
      "outputs": []
    },
    {
      "cell_type": "code",
      "metadata": {
        "id": "F788jWY83tTf"
      },
      "source": [
        "if hours_per_week > 10:\n",
        "    print(my_name + \" you are doing well\")\n",
        "print(\"Outside If\")"
      ],
      "execution_count": null,
      "outputs": []
    },
    {
      "cell_type": "code",
      "metadata": {
        "id": "nc08nM4q38OU"
      },
      "source": [
        "if hours_per_week > 10:\n",
        "    print(my_name + \" you are doing well\")\n",
        "else:\n",
        "    print(my_name + \" you need to study more\")"
      ],
      "execution_count": null,
      "outputs": []
    },
    {
      "cell_type": "code",
      "metadata": {
        "id": "6yz4l2P44KGF"
      },
      "source": [
        "for i in range(5):\n",
        "    print(i)"
      ],
      "execution_count": null,
      "outputs": []
    },
    {
      "cell_type": "code",
      "metadata": {
        "id": "KVZn2ZNl4e_j"
      },
      "source": [
        "range?"
      ],
      "execution_count": null,
      "outputs": []
    },
    {
      "cell_type": "code",
      "metadata": {
        "id": "NUeOJ9CX4lmj"
      },
      "source": [
        "for i in range(2, 5):\n",
        "    print(i, i**2)"
      ],
      "execution_count": null,
      "outputs": []
    },
    {
      "cell_type": "code",
      "metadata": {
        "id": "__6vd_Df5DE8"
      },
      "source": [
        "a = 1\n",
        "b = 1\n",
        "print(a)\n",
        "print(b)\n",
        "for i in range(10):\n",
        "    temp = a + b\n",
        "    a = b\n",
        "    b = temp\n",
        "    print(temp)"
      ],
      "execution_count": null,
      "outputs": []
    },
    {
      "cell_type": "code",
      "metadata": {
        "id": "-lbt47gx5nNK"
      },
      "source": [
        "a = 1\n",
        "b = 1\n",
        "print(a)\n",
        "print(b)\n",
        "i = 2\n",
        "while b < 1729:\n",
        "    temp = a + b\n",
        "    i += 1\n",
        "    a = b\n",
        "    b = temp\n",
        "    print(temp)\n",
        "print(\"Printed\", i, \"numbers\")"
      ],
      "execution_count": null,
      "outputs": []
    },
    {
      "cell_type": "markdown",
      "metadata": {
        "id": "H6UBrWkCIjSk"
      },
      "source": [
        "# Functions"
      ]
    },
    {
      "cell_type": "code",
      "metadata": {
        "id": "ZOqBP4f-HAwH"
      },
      "source": [
        "def fibonacci(pos):\n",
        "    a = 1\n",
        "    b = 1\n",
        "    for i in range(pos):\n",
        "        temp = a + b\n",
        "        a = b\n",
        "        b = temp\n",
        "    return temp"
      ],
      "execution_count": null,
      "outputs": []
    },
    {
      "cell_type": "code",
      "metadata": {
        "id": "A-hZFFq1I5js"
      },
      "source": [
        "print(fibonacci(3))"
      ],
      "execution_count": null,
      "outputs": []
    },
    {
      "cell_type": "code",
      "metadata": {
        "id": "vN5zd8g4I9Ri"
      },
      "source": [
        "print(fibonacci(8), fibonacci(7))"
      ],
      "execution_count": null,
      "outputs": []
    },
    {
      "cell_type": "code",
      "metadata": {
        "id": "8pp648VcJBi2"
      },
      "source": [
        "for i in range(2, 20):\n",
        "    ratio = fibonacci(i) / fibonacci(i - 1)\n",
        "    print(i, ratio)"
      ],
      "execution_count": null,
      "outputs": []
    },
    {
      "cell_type": "code",
      "metadata": {
        "id": "gFEYx2OLJQCr"
      },
      "source": [
        "def fibonacci_relative(pos, a, b):\n",
        "    for i in range(pos):\n",
        "        temp = a + b\n",
        "        a = b\n",
        "        b = temp\n",
        "    return temp"
      ],
      "execution_count": null,
      "outputs": []
    },
    {
      "cell_type": "code",
      "metadata": {
        "id": "fPbyYs5hJr1-"
      },
      "source": [
        "print(fibonacci_relative(3, 34, 55))"
      ],
      "execution_count": null,
      "outputs": []
    },
    {
      "cell_type": "code",
      "metadata": {
        "id": "MM_zwZKNJ7y9"
      },
      "source": [
        "def fibonacci_ol(pos, a = 1, b = 1):\n",
        "    for i in range(pos):\n",
        "        temp = a + b\n",
        "        a = b\n",
        "        b = temp\n",
        "    return temp"
      ],
      "execution_count": null,
      "outputs": []
    },
    {
      "cell_type": "code",
      "metadata": {
        "id": "-17_Kcb3KUgK"
      },
      "source": [
        "print(fibonacci_ol(3, 34, 55))"
      ],
      "execution_count": null,
      "outputs": []
    },
    {
      "cell_type": "code",
      "metadata": {
        "id": "gLKZHtabKWk3"
      },
      "source": [
        "print(fibonacci_relative(3))"
      ],
      "execution_count": null,
      "outputs": []
    },
    {
      "cell_type": "code",
      "metadata": {
        "id": "_xu39REXLM6V"
      },
      "source": [
        "def fibonacci_recursive(n, a = 1, b = 1):\n",
        "    if n > 1:\n",
        "        return fibonacci_recursive(n - 1, b, a + b)\n",
        "    else:\n",
        "        return a + b"
      ],
      "execution_count": null,
      "outputs": []
    },
    {
      "cell_type": "code",
      "metadata": {
        "id": "VFpDuwrQLk0R"
      },
      "source": [
        "print(fibonacci_recursive(3, 34, 55))"
      ],
      "execution_count": null,
      "outputs": []
    },
    {
      "cell_type": "code",
      "metadata": {
        "id": "yaTANpbCSPtX"
      },
      "source": [
        "def fibonacci(pos):\n",
        "    a = 1\n",
        "    b = 1\n",
        "    for i in range(pos):\n",
        "        temp = a + b\n",
        "        a = b\n",
        "        b = temp\n",
        "    return temp"
      ],
      "execution_count": null,
      "outputs": []
    },
    {
      "cell_type": "code",
      "metadata": {
        "id": "xafMdRP_SPtb"
      },
      "source": [
        "print(fibonacci(3))"
      ],
      "execution_count": null,
      "outputs": []
    },
    {
      "cell_type": "code",
      "metadata": {
        "id": "t172sAFrSPtf"
      },
      "source": [
        "print(fibonacci(8), fibonacci(7))"
      ],
      "execution_count": null,
      "outputs": []
    },
    {
      "cell_type": "code",
      "metadata": {
        "id": "n2A_Xs83SPti"
      },
      "source": [
        "for i in range(2, 20):\n",
        "    ratio = fibonacci(i) / fibonacci(i - 1)\n",
        "    print(i, ratio)"
      ],
      "execution_count": null,
      "outputs": []
    },
    {
      "cell_type": "code",
      "metadata": {
        "id": "V_55I0X2SPtn"
      },
      "source": [
        "def fibonacci_relative(pos, a, b):\n",
        "    for i in range(pos):\n",
        "        temp = a + b\n",
        "        a = b\n",
        "        b = temp\n",
        "    return temp"
      ],
      "execution_count": null,
      "outputs": []
    },
    {
      "cell_type": "code",
      "metadata": {
        "id": "YqqFpkOWSPtq"
      },
      "source": [
        "print(fibonacci_relative(3, 34, 55))"
      ],
      "execution_count": null,
      "outputs": []
    },
    {
      "cell_type": "code",
      "metadata": {
        "id": "ITS77jEhSPtt"
      },
      "source": [
        "def fibonacci_ol(pos, a = 1, b = 1):\n",
        "    for i in range(pos):\n",
        "        temp = a + b\n",
        "        a = b\n",
        "        b = temp\n",
        "    return temp"
      ],
      "execution_count": null,
      "outputs": []
    },
    {
      "cell_type": "code",
      "metadata": {
        "id": "5nr-wa9ISPtv"
      },
      "source": [
        "print(fibonacci_ol(3, 34, 55))"
      ],
      "execution_count": null,
      "outputs": []
    },
    {
      "cell_type": "code",
      "metadata": {
        "id": "4ra6GBwISPtx"
      },
      "source": [
        "print(fibonacci_relative(3))"
      ],
      "execution_count": null,
      "outputs": []
    },
    {
      "cell_type": "code",
      "metadata": {
        "id": "d5Qb0cXgSPt0"
      },
      "source": [
        "def fibonacci_recursive(n, a = 1, b = 1):\n",
        "    if n > 1:\n",
        "        return fibonacci_recursive(n - 1, b, a + b)\n",
        "    else:\n",
        "        return a + b"
      ],
      "execution_count": null,
      "outputs": []
    },
    {
      "cell_type": "code",
      "metadata": {
        "id": "o3ZHPT30SPt2"
      },
      "source": [
        "print(fibonacci_recursive(3, 34, 55))"
      ],
      "execution_count": null,
      "outputs": []
    }
  ]
}