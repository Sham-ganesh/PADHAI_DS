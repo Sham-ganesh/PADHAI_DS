{
  "nbformat": 4,
  "nbformat_minor": 0,
  "metadata": {
    "colab": {
      "name": "Assignment (workout).ipynb",
      "provenance": [],
      "collapsed_sections": [
        "qJOxQXjMe0JM",
        "yDSI45n23CSO",
        "Nc6DAU2U7hjo"
      ],
      "toc_visible": true
    },
    "kernelspec": {
      "name": "python3",
      "display_name": "Python 3"
    }
  },
  "cells": [
    {
      "cell_type": "code",
      "metadata": {
        "id": "ifvOMWygLZ2Z"
      },
      "source": [
        "\n"
      ],
      "execution_count": null,
      "outputs": []
    },
    {
      "cell_type": "markdown",
      "metadata": {
        "id": "y5dKpMdpQU6c"
      },
      "source": [
        "# New Section"
      ]
    },
    {
      "cell_type": "markdown",
      "metadata": {
        "id": "YalOESdMLe1o"
      },
      "source": [
        "# Assignment\n"
      ]
    },
    {
      "cell_type": "markdown",
      "metadata": {
        "id": "MHesY1bQelUj"
      },
      "source": [
        ""
      ]
    },
    {
      "cell_type": "code",
      "metadata": {
        "id": "aqzjQbiNLj4e"
      },
      "source": [
        "w=input(\"Enter your weight\")\n",
        "type(w)\n",
        "w=float(w)\n",
        "c=input(\"Enter your preffered Unit of height F-feet M-meter\")\n",
        "if c=='F':\n",
        "  print(\"Enter your height in feet and inches:\")\n",
        "  h1=input(\"Enter feet: \")\n",
        "  h2=input(\"Enter inches:\")\n",
        "else :\n",
        "  h3=input(\"Enter your height in meters:\")\n",
        "  h3=float(h3)\n",
        "\n",
        "if c=='F':\n",
        "  h1=int(h1)\n",
        "  h2=int(h2)\n",
        "  h3=h1*0.3048+h2*0.0254\n",
        "\n",
        "bmi=w/(h3*h3);\n",
        "bmi=str(bmi)\n",
        "print(\"BMI : \"+bmi)\n",
        "bmi=float(bmi)\n",
        "if bmi<18.5:\n",
        "  print(\"Under Weight\")\n",
        "elif bmi>=18.5 and bmi<25:\n",
        "  print(\"Normal\")\n",
        "elif bmi>=25 and bmi<30:\n",
        "  print(\"Over Weight\")\n",
        "elif bmi>=30:\n",
        "  print(\"Very Over Weight\")\n",
        "\n"
      ],
      "execution_count": null,
      "outputs": []
    },
    {
      "cell_type": "code",
      "metadata": {
        "id": "gJw5gGw_Lm_S"
      },
      "source": [
        ""
      ],
      "execution_count": null,
      "outputs": []
    },
    {
      "cell_type": "markdown",
      "metadata": {
        "id": "v2cgrW7ELk6o"
      },
      "source": [
        "\n",
        "# Competitive programming"
      ]
    },
    {
      "cell_type": "markdown",
      "metadata": {
        "id": "sHIwBhj2eh7Y"
      },
      "source": [
        ""
      ]
    },
    {
      "cell_type": "code",
      "metadata": {
        "id": "fOvTZ30uenYy"
      },
      "source": [
        "import sympy as sp"
      ],
      "execution_count": null,
      "outputs": []
    },
    {
      "cell_type": "code",
      "metadata": {
        "id": "dcotePJvenUO"
      },
      "source": [
        "n=input()"
      ],
      "execution_count": null,
      "outputs": []
    },
    {
      "cell_type": "code",
      "metadata": {
        "id": "7KX_qhxKenR4"
      },
      "source": [
        "n=int(n)"
      ],
      "execution_count": null,
      "outputs": []
    },
    {
      "cell_type": "code",
      "metadata": {
        "id": "bp0h5LANe3Tp"
      },
      "source": [
        "for i in range (n+1):\n",
        "  if sp.isprime(i):\n",
        "    print(i)\n",
        "    print(\" \")"
      ],
      "execution_count": null,
      "outputs": []
    },
    {
      "cell_type": "code",
      "metadata": {
        "id": "cPCzFIJ0fIoB"
      },
      "source": [
        ""
      ],
      "execution_count": null,
      "outputs": []
    },
    {
      "cell_type": "markdown",
      "metadata": {
        "id": "LYtqRl_MEmLc"
      },
      "source": [
        "## Workout"
      ]
    },
    {
      "cell_type": "markdown",
      "metadata": {
        "id": "yJ2nCfmNAupI"
      },
      "source": [
        ""
      ]
    },
    {
      "cell_type": "markdown",
      "metadata": {
        "id": "Zze2xF0ZcG-m"
      },
      "source": [
        "# List\n",
        "\n"
      ]
    },
    {
      "cell_type": "code",
      "metadata": {
        "id": "cE7xN5UbEokd"
      },
      "source": [
        "for i in range(5,10,2):\n",
        "  print(i)"
      ],
      "execution_count": null,
      "outputs": []
    },
    {
      "cell_type": "code",
      "metadata": {
        "id": "EtJsL1gyEwUd"
      },
      "source": [
        "lists=[]"
      ],
      "execution_count": null,
      "outputs": []
    },
    {
      "cell_type": "code",
      "metadata": {
        "id": "LGcWtQ7kG99A"
      },
      "source": [
        "for i in range(5):\n",
        "  x=input()\n",
        "  x=int(x)\n",
        "  lists.append(x)"
      ],
      "execution_count": null,
      "outputs": []
    },
    {
      "cell_type": "code",
      "metadata": {
        "id": "Esm8DoXNHDIA"
      },
      "source": [
        "lists"
      ],
      "execution_count": null,
      "outputs": []
    },
    {
      "cell_type": "code",
      "metadata": {
        "id": "wYwRtgQrIXTE"
      },
      "source": [
        "for data in lists:\n",
        "  print(data)"
      ],
      "execution_count": null,
      "outputs": []
    },
    {
      "cell_type": "code",
      "metadata": {
        "id": "_VUq6ApaJ3_c"
      },
      "source": [
        "a=list(range(5))"
      ],
      "execution_count": null,
      "outputs": []
    },
    {
      "cell_type": "code",
      "metadata": {
        "id": "5brKJynYKDf_"
      },
      "source": [
        "a"
      ],
      "execution_count": null,
      "outputs": []
    },
    {
      "cell_type": "code",
      "metadata": {
        "id": "1g5XuHpaLBS-"
      },
      "source": [
        "b=list(map(lambda x: x**2 ,a))\n"
      ],
      "execution_count": null,
      "outputs": []
    },
    {
      "cell_type": "code",
      "metadata": {
        "id": "qRMkQkBKLG_a"
      },
      "source": [
        "b"
      ],
      "execution_count": null,
      "outputs": []
    },
    {
      "cell_type": "code",
      "metadata": {
        "id": "Hxd9XOhWLPDT"
      },
      "source": [
        "print(list(filter(lambda x:x%2==0,b)))"
      ],
      "execution_count": null,
      "outputs": []
    },
    {
      "cell_type": "code",
      "metadata": {
        "id": "YMb_ZeGqMDDD"
      },
      "source": [
        "lists=[0,1,2,3,4,5]\n",
        "import time as t\n",
        "x=t.time()\n",
        "lists=map( lambda i:i**2 ,lists)\n",
        "y=t.time()\n",
        "print(\"Eleapsed time: \",y-x)"
      ],
      "execution_count": null,
      "outputs": []
    },
    {
      "cell_type": "markdown",
      "metadata": {
        "id": "UeJRTbyiA3e3"
      },
      "source": [
        "#Tuples"
      ]
    },
    {
      "cell_type": "code",
      "metadata": {
        "id": "cg3B-O9dAyav"
      },
      "source": [
        "tuples=()"
      ],
      "execution_count": null,
      "outputs": []
    },
    {
      "cell_type": "code",
      "metadata": {
        "id": "5tpsBuhzMG3f"
      },
      "source": [
        "type(tuples)"
      ],
      "execution_count": null,
      "outputs": []
    },
    {
      "cell_type": "code",
      "metadata": {
        "id": "CUNKcWDFA9wI"
      },
      "source": [
        "tuples=input()\n",
        "\n"
      ],
      "execution_count": null,
      "outputs": []
    },
    {
      "cell_type": "code",
      "metadata": {
        "id": "PtOXSClmBXbd"
      },
      "source": [
        "for i in range (9):\n",
        "  print(i, tuples[i])"
      ],
      "execution_count": null,
      "outputs": []
    },
    {
      "cell_type": "code",
      "metadata": {
        "id": "5HyPB2DTClFt"
      },
      "source": [
        "for data in tuples:\n",
        "  print(data)"
      ],
      "execution_count": null,
      "outputs": []
    },
    {
      "cell_type": "code",
      "metadata": {
        "id": "anund0lhDm0p"
      },
      "source": [
        "lists=(0,1,2,3,4,5)\n",
        "import time as t\n",
        "x=t.time()\n",
        "lists=map( lambda i:i**2 ,lists)\n",
        "y=t.time()\n",
        "print(\"Eleapsed time: \",y-x)"
      ],
      "execution_count": null,
      "outputs": []
    },
    {
      "cell_type": "markdown",
      "metadata": {
        "id": "5wIQji5QEuJz"
      },
      "source": [
        "#Set\n"
      ]
    },
    {
      "cell_type": "code",
      "metadata": {
        "id": "HA4hRwYdEwxG"
      },
      "source": [
        "sets=set()"
      ],
      "execution_count": null,
      "outputs": []
    },
    {
      "cell_type": "code",
      "metadata": {
        "id": "iOy7tr6IEzv6"
      },
      "source": [
        "type(sets)"
      ],
      "execution_count": null,
      "outputs": []
    },
    {
      "cell_type": "code",
      "metadata": {
        "id": "Ea8Lgx7EE1Si"
      },
      "source": [
        "for i in range(5):\n",
        "  sets.add(i)\n",
        "for i in range(5):\n",
        "  sets.add(i+1)\n",
        "#Example of set only as unique elements\n",
        "\n",
        "\n",
        "sets    "
      ],
      "execution_count": null,
      "outputs": []
    },
    {
      "cell_type": "code",
      "metadata": {
        "id": "ePMnSdm3FaiR"
      },
      "source": [
        "import time as t"
      ],
      "execution_count": null,
      "outputs": []
    },
    {
      "cell_type": "code",
      "metadata": {
        "id": "xa-u3WxPHCmd"
      },
      "source": [
        "x=t.time()\n",
        "sets=map( lambda i:i**2 ,sets)\n",
        "y=t.time()\n",
        "print(\"Eleapsed time: \",y-x)"
      ],
      "execution_count": null,
      "outputs": []
    },
    {
      "cell_type": "code",
      "metadata": {
        "id": "LSiruocgHGKS"
      },
      "source": [
        ""
      ],
      "execution_count": null,
      "outputs": []
    },
    {
      "cell_type": "markdown",
      "metadata": {
        "id": "zWeoLUx-HqeT"
      },
      "source": [
        "# Dictionary"
      ]
    },
    {
      "cell_type": "code",
      "metadata": {
        "id": "mRb2bCeaHta3"
      },
      "source": [
        "dicto={}"
      ],
      "execution_count": null,
      "outputs": []
    },
    {
      "cell_type": "code",
      "metadata": {
        "id": "lupjNUcBHvcr"
      },
      "source": [
        "type(dicto)"
      ],
      "execution_count": null,
      "outputs": []
    },
    {
      "cell_type": "code",
      "metadata": {
        "id": "YLg2BptpHw7w"
      },
      "source": [
        "for i in range(5):\n",
        "  dicto[i]=int(input(\"Enter number\"))"
      ],
      "execution_count": null,
      "outputs": []
    },
    {
      "cell_type": "code",
      "metadata": {
        "id": "kPDFGvXFIawF"
      },
      "source": [
        "dicto"
      ],
      "execution_count": null,
      "outputs": []
    },
    {
      "cell_type": "code",
      "metadata": {
        "id": "R1hOoU77Ifum"
      },
      "source": [
        "dicto[0]"
      ],
      "execution_count": null,
      "outputs": []
    },
    {
      "cell_type": "code",
      "metadata": {
        "id": "e-MFfR_ZIqRe"
      },
      "source": [
        "dicto[2]"
      ],
      "execution_count": null,
      "outputs": []
    },
    {
      "cell_type": "code",
      "metadata": {
        "id": "PfriN0QyItLP"
      },
      "source": [
        "print(dicto.keys())\n",
        "print(dicto.values())"
      ],
      "execution_count": null,
      "outputs": []
    },
    {
      "cell_type": "code",
      "metadata": {
        "id": "2XB2gwLzI9cF"
      },
      "source": [
        "for key in dicto.keys():\n",
        "  print(key ,\":\", dicto[key])"
      ],
      "execution_count": null,
      "outputs": []
    },
    {
      "cell_type": "code",
      "metadata": {
        "id": "gWtjKLjlJW6y"
      },
      "source": [
        ""
      ],
      "execution_count": null,
      "outputs": []
    },
    {
      "cell_type": "markdown",
      "metadata": {
        "id": "oWLyTf4OcJU2"
      },
      "source": [
        "# Packages"
      ]
    },
    {
      "cell_type": "markdown",
      "metadata": {
        "id": "52_oX9JzcNMz"
      },
      "source": [
        "## Math"
      ]
    },
    {
      "cell_type": "code",
      "metadata": {
        "id": "e_oldGJYcQHz"
      },
      "source": [
        "import math as m"
      ],
      "execution_count": null,
      "outputs": []
    },
    {
      "cell_type": "code",
      "metadata": {
        "id": "8XV-uH2-ceh3"
      },
      "source": [
        "m.sqrt(36)"
      ],
      "execution_count": null,
      "outputs": []
    },
    {
      "cell_type": "code",
      "metadata": {
        "id": "QRbj0fajcjcv"
      },
      "source": [
        "m.pow(2.7,10)"
      ],
      "execution_count": null,
      "outputs": []
    },
    {
      "cell_type": "code",
      "metadata": {
        "id": "HnNYFkH8c6jk"
      },
      "source": [
        "#https://docs.python.org/3/library/math.html\n",
        "# Link for maths package functions\n"
      ],
      "execution_count": null,
      "outputs": []
    },
    {
      "cell_type": "code",
      "metadata": {
        "id": "wiorXv6dditX"
      },
      "source": [
        "for i in range(10):\n",
        "  print(i ,m.factorial(i))\n",
        "#Note: Math functions from packages are even more faster"
      ],
      "execution_count": null,
      "outputs": []
    },
    {
      "cell_type": "markdown",
      "metadata": {
        "id": "nvSLwbh2gyQn"
      },
      "source": [
        "## Own Package"
      ]
    },
    {
      "cell_type": "code",
      "metadata": {
        "id": "26qNH3Auedhp"
      },
      "source": [
        "#Create your own header files\n",
        "!echo 'def function(x):'>samplefile.py\n",
        "!echo '  print(\"the number is: \",x)'>>samplefile.py\n",
        "#!echo is used to write inside any oher file or program"
      ],
      "execution_count": null,
      "outputs": []
    },
    {
      "cell_type": "code",
      "metadata": {
        "id": "-AwkllnEfaQk"
      },
      "source": [
        "#samplefile has become a package and it can be imported and use\n",
        "\n",
        "import samplefile as s\n",
        "s.function(5)"
      ],
      "execution_count": null,
      "outputs": []
    },
    {
      "cell_type": "code",
      "metadata": {
        "id": "GotasSvGf4UH"
      },
      "source": [
        "from samplefile import function \n",
        "function(10)"
      ],
      "execution_count": null,
      "outputs": []
    },
    {
      "cell_type": "code",
      "metadata": {
        "id": "o8fNwnVlgewc"
      },
      "source": [
        ""
      ],
      "execution_count": null,
      "outputs": []
    },
    {
      "cell_type": "markdown",
      "metadata": {
        "id": "3PPGRdNA2Psa"
      },
      "source": [
        "## Numpy"
      ]
    },
    {
      "cell_type": "code",
      "metadata": {
        "id": "vGg8H4qG2Ty-"
      },
      "source": [
        ""
      ],
      "execution_count": null,
      "outputs": []
    },
    {
      "cell_type": "markdown",
      "metadata": {
        "id": "n5Fd7IH0g_59"
      },
      "source": [
        "# Packages Workout\n"
      ]
    },
    {
      "cell_type": "code",
      "metadata": {
        "id": "vhNCFk6toElt"
      },
      "source": [
        ""
      ],
      "execution_count": null,
      "outputs": []
    },
    {
      "cell_type": "markdown",
      "metadata": {
        "id": "6zuwt-HwhGD-"
      },
      "source": [
        "## Pendulum"
      ]
    },
    {
      "cell_type": "code",
      "metadata": {
        "id": "mKuB9vPBhHy2"
      },
      "source": [
        "\n"
      ],
      "execution_count": null,
      "outputs": []
    },
    {
      "cell_type": "code",
      "metadata": {
        "id": "FnOeRkMbhJxf"
      },
      "source": [
        "  "
      ],
      "execution_count": null,
      "outputs": []
    },
    {
      "cell_type": "markdown",
      "metadata": {
        "id": "KfgRPDEKmQ4E"
      },
      "source": [
        "# File Handling"
      ]
    },
    {
      "cell_type": "code",
      "metadata": {
        "id": "hhbPx_p_mTy3"
      },
      "source": [
        "!cat samplefile.py\n",
        "#!cat is used to open any file in the directory"
      ],
      "execution_count": null,
      "outputs": []
    },
    {
      "cell_type": "code",
      "metadata": {
        "id": "pPGfC9PNmaqJ"
      },
      "source": [
        "with open('first_file.txt','w') as f:\n",
        "  f.write(\" Hello world inside text file.\")\n"
      ],
      "execution_count": null,
      "outputs": []
    },
    {
      "cell_type": "code",
      "metadata": {
        "id": "7cMTBiafnC3j"
      },
      "source": [
        "!ls\n",
        "#!ls shows the list of file in the directory"
      ],
      "execution_count": null,
      "outputs": []
    },
    {
      "cell_type": "code",
      "metadata": {
        "id": "Qa3pAlDvnFQM"
      },
      "source": [
        "!cat first_file.txt"
      ],
      "execution_count": null,
      "outputs": []
    },
    {
      "cell_type": "code",
      "metadata": {
        "id": "S1qr7kddnQTj"
      },
      "source": [
        "file=open('first_file.txt','r')"
      ],
      "execution_count": null,
      "outputs": []
    },
    {
      "cell_type": "code",
      "metadata": {
        "id": "XyDDMsDAncYO"
      },
      "source": [
        "s=file.readline()\n",
        "s.split()\n",
        "#here s is considered as list"
      ],
      "execution_count": null,
      "outputs": []
    },
    {
      "cell_type": "code",
      "metadata": {
        "id": "L3qosEZ1noZG"
      },
      "source": [
        "file.close()"
      ],
      "execution_count": null,
      "outputs": []
    },
    {
      "cell_type": "code",
      "metadata": {
        "id": "kz4SAj5yn9Jr"
      },
      "source": [
        ""
      ],
      "execution_count": null,
      "outputs": []
    },
    {
      "cell_type": "markdown",
      "metadata": {
        "id": "qJOxQXjMe0JM"
      },
      "source": [
        "# Class"
      ]
    },
    {
      "cell_type": "code",
      "metadata": {
        "id": "8C353TIte2dl"
      },
      "source": [
        "class student:\n",
        "  \"\"\"\"This is a simple classs\"\"\"\n",
        "  def __init__(self, rno,name):\n",
        "    self.name=name\n",
        "    self.rno=rno"
      ],
      "execution_count": null,
      "outputs": []
    },
    {
      "cell_type": "code",
      "metadata": {
        "id": "5LjxktRZfDqV"
      },
      "source": [
        "st1=student(59,\"Sham\")"
      ],
      "execution_count": null,
      "outputs": []
    },
    {
      "cell_type": "code",
      "metadata": {
        "id": "sSIbKFhBfG-a"
      },
      "source": [
        "type(st1)"
      ],
      "execution_count": null,
      "outputs": []
    },
    {
      "cell_type": "code",
      "metadata": {
        "id": "r91ozjJufIqi"
      },
      "source": [
        "print(st1.name,st1.rno)"
      ],
      "execution_count": null,
      "outputs": []
    },
    {
      "cell_type": "code",
      "metadata": {
        "id": "KygkY2_NgGp-"
      },
      "source": [
        "print(\"Hello\")"
      ],
      "execution_count": null,
      "outputs": []
    },
    {
      "cell_type": "code",
      "metadata": {
        "id": "qgmk4HWW24iC"
      },
      "source": [
        ""
      ],
      "execution_count": null,
      "outputs": []
    },
    {
      "cell_type": "markdown",
      "metadata": {
        "id": "yDSI45n23CSO"
      },
      "source": [
        "# Numpy"
      ]
    },
    {
      "cell_type": "code",
      "metadata": {
        "id": "kjPeyR8O3Eyu"
      },
      "source": [
        "import numpy as np\n",
        "y=np.array([1,2,3])\n",
        "print(y)"
      ],
      "execution_count": null,
      "outputs": []
    },
    {
      "cell_type": "code",
      "metadata": {
        "id": "Bca8haeQ3Fhe"
      },
      "source": [
        "y.shape"
      ],
      "execution_count": null,
      "outputs": []
    },
    {
      "cell_type": "code",
      "metadata": {
        "id": "h-ImqxIp4Ev9"
      },
      "source": [
        "type(y)"
      ],
      "execution_count": null,
      "outputs": []
    },
    {
      "cell_type": "code",
      "metadata": {
        "id": "iUsqFw674HKu"
      },
      "source": [
        "#To create array of zeros\n",
        "x=np.zeros((4,5))"
      ],
      "execution_count": null,
      "outputs": []
    },
    {
      "cell_type": "code",
      "metadata": {
        "id": "J94ZXLPe4MDC"
      },
      "source": [
        "print(x)"
      ],
      "execution_count": null,
      "outputs": []
    },
    {
      "cell_type": "code",
      "metadata": {
        "id": "mGHFRHW94Tvi"
      },
      "source": [
        "# To create an identitiy matrrix where diagonal is 1.\n",
        "# Note : only one paranthesis.\n",
        "y = np.eye(3,3)"
      ],
      "execution_count": null,
      "outputs": []
    },
    {
      "cell_type": "code",
      "metadata": {
        "id": "_3beZysN4Ysn"
      },
      "source": [
        "print(y)"
      ],
      "execution_count": null,
      "outputs": []
    },
    {
      "cell_type": "code",
      "metadata": {
        "id": "UY_PishY4Z6R"
      },
      "source": [
        "z= np.random.random((4,4))"
      ],
      "execution_count": null,
      "outputs": []
    },
    {
      "cell_type": "code",
      "metadata": {
        "id": "6HcnGcSI44tX"
      },
      "source": [
        "print(z)"
      ],
      "execution_count": null,
      "outputs": []
    },
    {
      "cell_type": "code",
      "metadata": {
        "id": "I0psexnP5nRj"
      },
      "source": [
        "#Note : All operations can be done with numpy arrays like add,sub,mult;\n",
        "y=y+2"
      ],
      "execution_count": null,
      "outputs": []
    },
    {
      "cell_type": "code",
      "metadata": {
        "id": "dZXRWecv5pZr"
      },
      "source": [
        "print(y)"
      ],
      "execution_count": null,
      "outputs": []
    },
    {
      "cell_type": "code",
      "metadata": {
        "id": "imYhTf4T5qa0"
      },
      "source": [
        "#Taking two vectors and doing scalar and vector multiplication\n",
        "u=[1,2,3]\n",
        "v=[-1,0,1]\n",
        "\n",
        "ip=np.inner(u,v)\n",
        "op=np.outer(u,v)\n",
        "\n",
        "print(ip)\n",
        "print(op)"
      ],
      "execution_count": null,
      "outputs": []
    },
    {
      "cell_type": "code",
      "metadata": {
        "id": "UKkCWwwn6sA0"
      },
      "source": [
        "# ones create  a array of ones\n",
        "p=np.ones((3,3))\n",
        "q=np.sum(p)\n",
        "print(p)\n",
        "print(q)"
      ],
      "execution_count": null,
      "outputs": []
    },
    {
      "cell_type": "code",
      "metadata": {
        "id": "KkrqGHyR7EoX"
      },
      "source": [
        "p[1,1]=6\n",
        "p.max()"
      ],
      "execution_count": null,
      "outputs": []
    },
    {
      "cell_type": "code",
      "metadata": {
        "id": "BDN5cce87Ysd"
      },
      "source": [
        ""
      ],
      "execution_count": null,
      "outputs": []
    },
    {
      "cell_type": "markdown",
      "metadata": {
        "id": "Nc6DAU2U7hjo"
      },
      "source": [
        "# Plotting"
      ]
    },
    {
      "cell_type": "code",
      "metadata": {
        "id": "mVGE6P8y7j9X"
      },
      "source": [
        "import matplotlib.pyplot as plt\n",
        "import numpy as np\n"
      ],
      "execution_count": null,
      "outputs": []
    },
    {
      "cell_type": "code",
      "metadata": {
        "id": "4K3dAvl18Tfw"
      },
      "source": [
        "x=np.random.random((10,1))\n",
        "print(x)"
      ],
      "execution_count": null,
      "outputs": []
    },
    {
      "cell_type": "code",
      "metadata": {
        "id": "72iedNXX8afb"
      },
      "source": [
        "# You can plot with star and also with line\n",
        "plt.plot(x,'*-')\n",
        "plt.show()"
      ],
      "execution_count": null,
      "outputs": []
    },
    {
      "cell_type": "code",
      "metadata": {
        "id": "20xP7MM-8fp6"
      },
      "source": [
        "#Plotting square rootfunction\n",
        "\n",
        "x=np.linspace(0,10,100)\n",
        "y=np.power(x,0.5)\n",
        "\n",
        "plt.plot(x,y,'*-')\n",
        "plt.show()"
      ],
      "execution_count": null,
      "outputs": []
    },
    {
      "cell_type": "code",
      "metadata": {
        "id": "B1sMbjEP9VfM"
      },
      "source": [
        "import seaborn as sns"
      ],
      "execution_count": null,
      "outputs": []
    },
    {
      "cell_type": "code",
      "metadata": {
        "id": "Wl06M7S8-NUf"
      },
      "source": [
        "sns.set()"
      ],
      "execution_count": null,
      "outputs": []
    },
    {
      "cell_type": "code",
      "metadata": {
        "id": "NG-AjaZ0-Sxl"
      },
      "source": [
        "sns.lineplot(x,y)\n",
        "plt.show()"
      ],
      "execution_count": null,
      "outputs": []
    },
    {
      "cell_type": "code",
      "metadata": {
        "id": "L8UKeoeC-X4C"
      },
      "source": [
        ""
      ],
      "execution_count": null,
      "outputs": []
    },
    {
      "cell_type": "markdown",
      "metadata": {
        "id": "aPkJsOX7qZL0"
      },
      "source": [
        "# Pandas\n"
      ]
    },
    {
      "cell_type": "code",
      "metadata": {
        "id": "5wzLauV4q03J"
      },
      "source": [
        "import pandas as pd\n"
      ],
      "execution_count": null,
      "outputs": []
    },
    {
      "cell_type": "code",
      "metadata": {
        "id": "I10Re9UAv5na"
      },
      "source": [
        "s=pd.Series([0,1,1,1,2,2,2,3,4,5])\n",
        "print(s)"
      ],
      "execution_count": null,
      "outputs": []
    },
    {
      "cell_type": "code",
      "metadata": {
        "id": "4D7NyJnmwEmf"
      },
      "source": [
        "s.values"
      ],
      "execution_count": null,
      "outputs": []
    },
    {
      "cell_type": "code",
      "metadata": {
        "id": "JWX9Wj2zweeu"
      },
      "source": [
        "s.index"
      ],
      "execution_count": null,
      "outputs": []
    },
    {
      "cell_type": "code",
      "metadata": {
        "id": "fvNz1pDbwhny"
      },
      "source": [
        "for i in s.values:\n",
        "  print(i)"
      ],
      "execution_count": null,
      "outputs": []
    },
    {
      "cell_type": "code",
      "metadata": {
        "id": "KTlV5_Whwpn6"
      },
      "source": [
        "for item in zip(s.index,s.values):\n",
        "  print(item)"
      ],
      "execution_count": null,
      "outputs": []
    },
    {
      "cell_type": "code",
      "metadata": {
        "id": "04wugbsBwyCV"
      },
      "source": [
        "sham = pd.Series([52,170], index=['Weight','Height'])"
      ],
      "execution_count": null,
      "outputs": []
    },
    {
      "cell_type": "code",
      "metadata": {
        "id": "N7mwKpkCxn3T"
      },
      "source": [
        "sham"
      ],
      "execution_count": null,
      "outputs": []
    },
    {
      "cell_type": "code",
      "metadata": {
        "id": "oEhCTr1Hxrr3"
      },
      "source": [
        "sham['Weight']"
      ],
      "execution_count": null,
      "outputs": []
    },
    {
      "cell_type": "code",
      "metadata": {
        "id": "fgwmhapIx0gl"
      },
      "source": [
        "sham.Weight"
      ],
      "execution_count": null,
      "outputs": []
    },
    {
      "cell_type": "code",
      "metadata": {
        "id": "tzMR1W14x2aa"
      },
      "source": [
        "import numpy as np"
      ],
      "execution_count": null,
      "outputs": []
    },
    {
      "cell_type": "code",
      "metadata": {
        "id": "9M-8MysHyAtC"
      },
      "source": [
        "arr= np.random.randint(0,10,5)\n",
        "arr"
      ],
      "execution_count": null,
      "outputs": []
    },
    {
      "cell_type": "code",
      "metadata": {
        "id": "I1BDBClIyG5w"
      },
      "source": [
        "ind=np.arange(1,6)"
      ],
      "execution_count": null,
      "outputs": []
    },
    {
      "cell_type": "code",
      "metadata": {
        "id": "8pCYtiv4yVAQ"
      },
      "source": [
        "ind"
      ],
      "execution_count": null,
      "outputs": []
    },
    {
      "cell_type": "code",
      "metadata": {
        "id": "PDpapXgUyVpd"
      },
      "source": [
        "rand_series=pd.Series(arr,index=ind)\n",
        "rand_series"
      ],
      "execution_count": null,
      "outputs": []
    },
    {
      "cell_type": "code",
      "metadata": {
        "id": "5BNyisWqyhwB"
      },
      "source": [
        "d={}\n",
        "d['mass']=0.33\n",
        "d['diameter']=57.66\n",
        "d['daylength']=76.23\n"
      ],
      "execution_count": null,
      "outputs": []
    },
    {
      "cell_type": "code",
      "metadata": {
        "id": "tq25uzPkzMxm"
      },
      "source": [
        "print(d)"
      ],
      "execution_count": null,
      "outputs": []
    },
    {
      "cell_type": "code",
      "metadata": {
        "id": "KDpOE5LizOjz"
      },
      "source": [
        "mars=pd.Series(d)\n",
        "print(mars)"
      ],
      "execution_count": null,
      "outputs": []
    },
    {
      "cell_type": "code",
      "metadata": {
        "id": "6-rg8rr2zT63"
      },
      "source": [
        "#if we want a specific index from the dictionaty then index can be used.\n",
        "mars=pd.Series(d,index=['mass','daylength'])"
      ],
      "execution_count": null,
      "outputs": []
    },
    {
      "cell_type": "code",
      "metadata": {
        "id": "h6tOgyqrzky5"
      },
      "source": [
        "print(mars)"
      ],
      "execution_count": null,
      "outputs": []
    },
    {
      "cell_type": "code",
      "metadata": {
        "id": "QXK340g1zmuo"
      },
      "source": [
        " p=pd.Series([1,3,5,7,9],index=[1,2,3,4,5])\n"
      ],
      "execution_count": null,
      "outputs": []
    },
    {
      "cell_type": "code",
      "metadata": {
        "id": "pgjtFVRvAgN5"
      },
      "source": [
        "p.loc[4]\n"
      ],
      "execution_count": null,
      "outputs": []
    },
    {
      "cell_type": "code",
      "metadata": {
        "id": "rj0NQGICAnqV"
      },
      "source": [
        "p.iloc[4]"
      ],
      "execution_count": null,
      "outputs": []
    },
    {
      "cell_type": "code",
      "metadata": {
        "id": "l7EWkuUUAsAr"
      },
      "source": [
        "p.iloc[-1]"
      ],
      "execution_count": null,
      "outputs": []
    },
    {
      "cell_type": "code",
      "metadata": {
        "id": "aX37LTQXAwnk"
      },
      "source": [
        "p.iloc[0:3]"
      ],
      "execution_count": null,
      "outputs": []
    },
    {
      "cell_type": "code",
      "metadata": {
        "id": "5__rwvvwAyzv"
      },
      "source": [
        "p.loc[1:3]"
      ],
      "execution_count": null,
      "outputs": []
    },
    {
      "cell_type": "code",
      "metadata": {
        "id": "lbjD_0rkBP1w"
      },
      "source": [
        "mass=pd.Series([1,2,3,4,5,6,7,8],\n",
        "               index=['earth','mars','Jupiter','neptune','venus','saturn','mercury','uranus'])"
      ],
      "execution_count": null,
      "outputs": []
    },
    {
      "cell_type": "code",
      "metadata": {
        "id": "a75lwzWtoJo9"
      },
      "source": [
        "mass>5"
      ],
      "execution_count": null,
      "outputs": []
    },
    {
      "cell_type": "code",
      "metadata": {
        "id": "jnuPxJMloNB5"
      },
      "source": [
        "mass[mass>5]"
      ],
      "execution_count": null,
      "outputs": []
    },
    {
      "cell_type": "code",
      "metadata": {
        "id": "-_iXCDOboPWJ"
      },
      "source": [
        "mass[(mass>3) & (mass<7)]"
      ],
      "execution_count": null,
      "outputs": []
    },
    {
      "cell_type": "code",
      "metadata": {
        "id": "NfTmNjXcoeeK"
      },
      "source": [
        "mass*2"
      ],
      "execution_count": null,
      "outputs": []
    },
    {
      "cell_type": "code",
      "metadata": {
        "id": "uJbHKAqNom6N"
      },
      "source": [
        "mass/10"
      ],
      "execution_count": null,
      "outputs": []
    },
    {
      "cell_type": "code",
      "metadata": {
        "id": "WNAudytHopqB"
      },
      "source": [
        "import numpy as np"
      ],
      "execution_count": null,
      "outputs": []
    },
    {
      "cell_type": "code",
      "metadata": {
        "id": "3HmTOZPMotP6"
      },
      "source": [
        "#This shows that pandas is over numpy\n",
        "np.mean(mass)"
      ],
      "execution_count": null,
      "outputs": []
    },
    {
      "cell_type": "code",
      "metadata": {
        "id": "HakfZzAfovAg"
      },
      "source": [
        "np.amin(mass)"
      ],
      "execution_count": null,
      "outputs": []
    },
    {
      "cell_type": "code",
      "metadata": {
        "id": "6a-Yh5s2o6Pw"
      },
      "source": [
        "np.amax(mass)"
      ],
      "execution_count": null,
      "outputs": []
    },
    {
      "cell_type": "code",
      "metadata": {
        "id": "J4P1-ffgo8sx"
      },
      "source": [
        "mass + mass"
      ],
      "execution_count": null,
      "outputs": []
    },
    {
      "cell_type": "code",
      "metadata": {
        "id": "ilS9eKXPpNmJ"
      },
      "source": [
        "big_mass=mass[mass>5]"
      ],
      "execution_count": null,
      "outputs": []
    },
    {
      "cell_type": "code",
      "metadata": {
        "id": "geJpwHwapYhv"
      },
      "source": [
        "new_mass=mass+big_mass"
      ],
      "execution_count": null,
      "outputs": []
    },
    {
      "cell_type": "code",
      "metadata": {
        "id": "SMGtTm38panN"
      },
      "source": [
        "print(new_mass)"
      ],
      "execution_count": null,
      "outputs": []
    },
    {
      "cell_type": "code",
      "metadata": {
        "id": "tLzx_q_vpkvt"
      },
      "source": [
        "#Show the data which are not nan\n",
        "new_mass[-pd.isnull(new_mass)]"
      ],
      "execution_count": null,
      "outputs": []
    },
    {
      "cell_type": "code",
      "metadata": {
        "id": "mu3ekmhfp-n0"
      },
      "source": [
        "mass['moon']=0.5"
      ],
      "execution_count": null,
      "outputs": []
    },
    {
      "cell_type": "code",
      "metadata": {
        "id": "jePmSIv1qMAG"
      },
      "source": [
        "mass"
      ],
      "execution_count": null,
      "outputs": []
    },
    {
      "cell_type": "code",
      "metadata": {
        "id": "AU7ETad2qNK8"
      },
      "source": [
        "mass.drop(['venus'])"
      ],
      "execution_count": null,
      "outputs": []
    },
    {
      "cell_type": "code",
      "metadata": {
        "id": "AREglltdqTyt"
      },
      "source": [
        "diameter=pd.Series([8,7,6,5,4,3,2,1],\n",
        "               index=['earth','mars','Jupiter','neptune','venus','saturn','mercury','uranus'])\n",
        "m1=pd.Series([1,2,3,4,5,6,7,8],\n",
        "               index=['earth','mars','Jupiter','neptune','venus','saturn','mercury','uranus'])"
      ],
      "execution_count": null,
      "outputs": []
    },
    {
      "cell_type": "code",
      "metadata": {
        "id": "rnOS_21Oq9aD"
      },
      "source": [
        "m1=pd.Series([1,2,3,4,5,6,7,8],\n",
        "               index=['earth','mars','Jupiter','neptune','venus','saturn','mercury','uranus'])"
      ],
      "execution_count": null,
      "outputs": []
    },
    {
      "cell_type": "code",
      "metadata": {
        "id": "1Ciziufsro7C"
      },
      "source": [
        "density=m1/((4/3)*3.14*(diameter*diameter*diameter))"
      ],
      "execution_count": null,
      "outputs": []
    },
    {
      "cell_type": "code",
      "metadata": {
        "id": "qqq_jsBFr8FI"
      },
      "source": [
        "print(density)"
      ],
      "execution_count": null,
      "outputs": []
    },
    {
      "cell_type": "code",
      "metadata": {
        "id": "8F9SQeq_sA3N"
      },
      "source": [
        "m1['moon']=5.6\n"
      ],
      "execution_count": null,
      "outputs": []
    },
    {
      "cell_type": "code",
      "metadata": {
        "id": "eQkP8Ea2tiaP"
      },
      "source": [
        "density=m1/((4/3)*3.14*(diameter*diameter*diameter))\n",
        "print(density)"
      ],
      "execution_count": null,
      "outputs": []
    },
    {
      "cell_type": "code",
      "metadata": {
        "id": "qi0paIXItnSV"
      },
      "source": [
        "print(np.mean(density))\n",
        "#To fill the null values with mean value\n",
        "density[pd.isnull(density)]=np.mean(density)"
      ],
      "execution_count": null,
      "outputs": []
    },
    {
      "cell_type": "code",
      "metadata": {
        "id": "CLxMhnistxMw"
      },
      "source": [
        "density"
      ],
      "execution_count": null,
      "outputs": []
    },
    {
      "cell_type": "code",
      "metadata": {
        "id": "FjELuo89t22U"
      },
      "source": [
        ""
      ],
      "execution_count": null,
      "outputs": []
    },
    {
      "cell_type": "markdown",
      "metadata": {
        "id": "uzaIbP2Qz5XU"
      },
      "source": [
        "# Nifty case study"
      ]
    },
    {
      "cell_type": "code",
      "metadata": {
        "id": "iKu2CQ1Qt9ko"
      },
      "source": [
        "import pandas as pd"
      ],
      "execution_count": null,
      "outputs": []
    },
    {
      "cell_type": "code",
      "metadata": {
        "id": "mbh_uxd30OHV"
      },
      "source": [
        "nifty = pd.read_csv('nifty.csv',index_col=0).iloc[:,0]"
      ],
      "execution_count": null,
      "outputs": []
    },
    {
      "cell_type": "code",
      "metadata": {
        "id": "MJkHDxv20mM6"
      },
      "source": [
        "nifty"
      ],
      "execution_count": null,
      "outputs": []
    },
    {
      "cell_type": "code",
      "metadata": {
        "id": "S291rAVU1K4L"
      },
      "source": [
        "nifty.head(20)"
      ],
      "execution_count": null,
      "outputs": []
    },
    {
      "cell_type": "code",
      "metadata": {
        "id": "esywOnht1dZG"
      },
      "source": [
        "nifty.tail(20)"
      ],
      "execution_count": null,
      "outputs": []
    },
    {
      "cell_type": "code",
      "metadata": {
        "id": "dmGKdhz71i4Q"
      },
      "source": [
        "import numpy as np\n",
        "np.mean(nifty)"
      ],
      "execution_count": null,
      "outputs": []
    },
    {
      "cell_type": "code",
      "metadata": {
        "id": "KKA0LDDi1qvg"
      },
      "source": [
        "np.median(nifty)"
      ],
      "execution_count": null,
      "outputs": []
    },
    {
      "cell_type": "code",
      "metadata": {
        "id": "L63zw_Q21xbN"
      },
      "source": [
        "#positive increase\n",
        "count=0\n",
        "for i in range(1,245):\n",
        "  if nifty[i]>nifty[i-1]:\n",
        "    print(nifty.index[i])\n",
        "    count+=1"
      ],
      "execution_count": null,
      "outputs": []
    },
    {
      "cell_type": "code",
      "metadata": {
        "id": "7rLQDWc92O2s"
      },
      "source": [
        "print(count/245)"
      ],
      "execution_count": null,
      "outputs": []
    },
    {
      "cell_type": "code",
      "metadata": {
        "id": "cxcGVW9q4SEG"
      },
      "source": [
        "(np.sum((nifty.values[1:]-nifty.values[:-1])>0)/len(nifty))*100"
      ],
      "execution_count": null,
      "outputs": []
    },
    {
      "cell_type": "code",
      "metadata": {
        "id": "t0_4uoHq6RrS"
      },
      "source": [
        "np.sum((nifty.values[-5:-2]-nifty.values[-4:-1]))/5"
      ],
      "execution_count": null,
      "outputs": []
    },
    {
      "cell_type": "code",
      "metadata": {
        "id": "zrs3--sO7ZKh"
      },
      "source": [
        "d=pd.Timestamp(nifty.index[4])"
      ],
      "execution_count": null,
      "outputs": []
    },
    {
      "cell_type": "code",
      "metadata": {
        "id": "YZhPVIBF87lR"
      },
      "source": [
        "d.dayofweek"
      ],
      "execution_count": null,
      "outputs": []
    },
    {
      "cell_type": "code",
      "metadata": {
        "id": "yIp8QyIE9ER-"
      },
      "source": [
        "new_index=map(pd.Timestamp,nifty.index)"
      ],
      "execution_count": null,
      "outputs": []
    },
    {
      "cell_type": "code",
      "metadata": {
        "id": "rOm9N_ac98DN"
      },
      "source": [
        "new_nifty=pd.Series(nifty,index=new_index)"
      ],
      "execution_count": null,
      "outputs": []
    },
    {
      "cell_type": "code",
      "metadata": {
        "id": "AhObUE9l-HIl"
      },
      "source": [
        "#printing the ending value of friday\n",
        "new_nifty[new_nifty.index.dayofweek == 4]"
      ],
      "execution_count": null,
      "outputs": []
    },
    {
      "cell_type": "code",
      "metadata": {
        "id": "T5r2Zc4o-Ira"
      },
      "source": [
        "new_nifty.rolling('5d').mean()"
      ],
      "execution_count": null,
      "outputs": []
    },
    {
      "cell_type": "code",
      "metadata": {
        "id": "4CBb4C_f-j83"
      },
      "source": [
        "data = [0,1,1,2,3,5,8,13,21]\n",
        "s=pd.Series(data)\n",
        "b=s.diff()\n",
        "print(b.iloc[5])\n",
        "\n"
      ],
      "execution_count": null,
      "outputs": []
    },
    {
      "cell_type": "code",
      "metadata": {
        "id": "Q2U0eZ8WAUaZ"
      },
      "source": [
        "\n",
        "s=pd.Series(\"a\",index=[1,2,3,4])\n",
        "print(s.loc[2])"
      ],
      "execution_count": null,
      "outputs": []
    },
    {
      "cell_type": "code",
      "metadata": {
        "id": "izIGraYpAo2r"
      },
      "source": [
        "s.iloc[2]"
      ],
      "execution_count": null,
      "outputs": []
    },
    {
      "cell_type": "code",
      "metadata": {
        "id": "OSZ8Tad7ArSK"
      },
      "source": [
        ""
      ],
      "execution_count": null,
      "outputs": []
    },
    {
      "cell_type": "markdown",
      "metadata": {
        "id": "QeF1UMOPeAPu"
      },
      "source": [
        "# Pandas (Frame work)"
      ]
    },
    {
      "cell_type": "code",
      "metadata": {
        "id": "H2LuEWJ4eDz4"
      },
      "source": [
        "import numpy as np\n",
        "import pandas as pd\n"
      ],
      "execution_count": null,
      "outputs": []
    },
    {
      "cell_type": "code",
      "metadata": {
        "id": "FcqWMBW_ek3U"
      },
      "source": [
        "arr = np.random.randint(0,10,(5,3))"
      ],
      "execution_count": null,
      "outputs": []
    },
    {
      "cell_type": "code",
      "metadata": {
        "id": "KbLEd9WUe3kU"
      },
      "source": [
        "arr"
      ],
      "execution_count": null,
      "outputs": []
    },
    {
      "cell_type": "code",
      "metadata": {
        "id": "LzR57cRce4f_"
      },
      "source": [
        "df = pd.DataFrame(arr)"
      ],
      "execution_count": null,
      "outputs": []
    },
    {
      "cell_type": "code",
      "metadata": {
        "id": "AyDEa-f8fDUF"
      },
      "source": [
        "df"
      ],
      "execution_count": null,
      "outputs": []
    },
    {
      "cell_type": "code",
      "metadata": {
        "id": "gtO_lGRAfEFE"
      },
      "source": [
        "df.values"
      ],
      "execution_count": null,
      "outputs": []
    },
    {
      "cell_type": "code",
      "metadata": {
        "id": "T3qrSLmofRQP"
      },
      "source": [
        "df.index"
      ],
      "execution_count": null,
      "outputs": []
    },
    {
      "cell_type": "code",
      "metadata": {
        "id": "hiiudj8wfUyc"
      },
      "source": [
        "df.columns"
      ],
      "execution_count": null,
      "outputs": []
    },
    {
      "cell_type": "code",
      "metadata": {
        "id": "-9tZ-ZZHfXtp"
      },
      "source": [
        "df.index=['A','B','C','D','E']\n",
        "df.columns=['a1','b1','c1']"
      ],
      "execution_count": null,
      "outputs": []
    },
    {
      "cell_type": "code",
      "metadata": {
        "id": "sSHj5j1ofoCi"
      },
      "source": [
        "df"
      ],
      "execution_count": null,
      "outputs": []
    },
    {
      "cell_type": "code",
      "metadata": {
        "id": "qS-qKP73foke"
      },
      "source": [
        "df.loc['B','b1']"
      ],
      "execution_count": null,
      "outputs": []
    },
    {
      "cell_type": "code",
      "metadata": {
        "id": "AD9ZfXDkf4HY"
      },
      "source": [
        "df.iloc[2:4,0:2]"
      ],
      "execution_count": null,
      "outputs": []
    },
    {
      "cell_type": "code",
      "metadata": {
        "id": "VYqYSiDmf_fq"
      },
      "source": [
        "#it printsthe0 series.\n",
        "#Therefore dataframe is a collection of series\n",
        "df.iloc[0]"
      ],
      "execution_count": null,
      "outputs": []
    },
    {
      "cell_type": "code",
      "metadata": {
        "id": "4Bv8dPSHgMay"
      },
      "source": [
        "type(df.iloc[0])"
      ],
      "execution_count": null,
      "outputs": []
    },
    {
      "cell_type": "code",
      "metadata": {
        "id": "2gFIoopvgcce"
      },
      "source": [
        "df.shape"
      ],
      "execution_count": null,
      "outputs": []
    },
    {
      "cell_type": "code",
      "metadata": {
        "id": "5h1jj3ZJggwn"
      },
      "source": [
        "df.T"
      ],
      "execution_count": null,
      "outputs": []
    },
    {
      "cell_type": "code",
      "metadata": {
        "id": "MvbBCIAqghfT"
      },
      "source": [
        "def create_df(n,m):\n",
        "  arr=np.random.randint(0,10,(n,m))\n",
        "  df=pd.DataFrame(arr)\n",
        "  df.index=['R'+ str(x) for x in np.arange(1,n+1)]\n",
        "  df.columns=['C'+ str(x) for x in np.arange(1,m+1)]\n",
        "  return df"
      ],
      "execution_count": null,
      "outputs": []
    },
    {
      "cell_type": "code",
      "metadata": {
        "id": "qbPOaPqfg9Z7"
      },
      "source": [
        "df= create_df(3,4)"
      ],
      "execution_count": null,
      "outputs": []
    },
    {
      "cell_type": "code",
      "metadata": {
        "id": "Zdsd4MLVhBXD"
      },
      "source": [
        "df"
      ],
      "execution_count": null,
      "outputs": []
    },
    {
      "cell_type": "code",
      "metadata": {
        "id": "QpWttqd_hCG2"
      },
      "source": [
        "diameter=pd.Series([8,7,6,5,4,3,2,1],\n",
        "               index=['earth','mars','Jupiter','neptune','venus','saturn','mercury','uranus'])\n",
        "m1=pd.Series([1,2,3,4,5,6,7,8],\n",
        "               index=['earth','mars','Jupiter','neptune','venus','saturn','mercury','uranus'])"
      ],
      "execution_count": null,
      "outputs": []
    },
    {
      "cell_type": "code",
      "metadata": {
        "id": "2y93cpDcjgNN"
      },
      "source": [
        "df=pd.DataFrame({'mass' : m1,'diameter': diameter})"
      ],
      "execution_count": null,
      "outputs": []
    },
    {
      "cell_type": "code",
      "metadata": {
        "id": "KFgNppxKjocp"
      },
      "source": [
        "df\n"
      ],
      "execution_count": null,
      "outputs": []
    },
    {
      "cell_type": "code",
      "metadata": {
        "id": "fk2c6IGxjpkI"
      },
      "source": [
        "df['mass']['earth']"
      ],
      "execution_count": null,
      "outputs": []
    },
    {
      "cell_type": "code",
      "metadata": {
        "id": "hCLfr7CfkQ8C"
      },
      "source": [
        "df['pop']=0"
      ],
      "execution_count": null,
      "outputs": []
    },
    {
      "cell_type": "code",
      "metadata": {
        "id": "lvKdj_VzkwgW"
      },
      "source": [
        "df"
      ],
      "execution_count": null,
      "outputs": []
    },
    {
      "cell_type": "code",
      "metadata": {
        "id": "GOuzBkQGkw3a"
      },
      "source": [
        "df['pop']['earth']='8bill'"
      ],
      "execution_count": null,
      "outputs": []
    },
    {
      "cell_type": "code",
      "metadata": {
        "id": "Dof9PZ5vlAW4"
      },
      "source": [
        "df"
      ],
      "execution_count": null,
      "outputs": []
    },
    {
      "cell_type": "code",
      "metadata": {
        "id": "VztvvusxlBZ-"
      },
      "source": [
        "#Here the answer is false because pop is an nbuilt function in pandas\n",
        "df['pop'] is df.pop"
      ],
      "execution_count": null,
      "outputs": []
    },
    {
      "cell_type": "code",
      "metadata": {
        "id": "zlT0Ab7zlWjj"
      },
      "source": [
        "df['mass'] is df.mass"
      ],
      "execution_count": null,
      "outputs": []
    },
    {
      "cell_type": "code",
      "metadata": {
        "id": "ANmHdw9OllvO"
      },
      "source": [
        "def create_mean(df):\n",
        "  df.add['mean')"
      ],
      "execution_count": null,
      "outputs": []
    },
    {
      "cell_type": "code",
      "metadata": {
        "id": "a1oHYDIwl7qd"
      },
      "source": [
        "df.loc['avg']=[np.mean(m1),np.mean(diameter),'NAN']"
      ],
      "execution_count": null,
      "outputs": []
    },
    {
      "cell_type": "code",
      "metadata": {
        "id": "5H3mwUrQl9wF"
      },
      "source": [
        "df"
      ],
      "execution_count": null,
      "outputs": []
    },
    {
      "cell_type": "code",
      "metadata": {
        "id": "WVLGW2s5maaS"
      },
      "source": [
        "df=df.drop(['mean','mass'])"
      ],
      "execution_count": null,
      "outputs": []
    },
    {
      "cell_type": "code",
      "metadata": {
        "id": "E2UZXtoHoRbp"
      },
      "source": [
        "df"
      ],
      "execution_count": null,
      "outputs": []
    },
    {
      "cell_type": "code",
      "metadata": {
        "id": "hmLN-LfFofic"
      },
      "source": [
        ""
      ],
      "execution_count": null,
      "outputs": []
    },
    {
      "cell_type": "markdown",
      "metadata": {
        "id": "zDIK0uhSQbPU"
      },
      "source": [
        "# New Section1\n"
      ]
    },
    {
      "cell_type": "code",
      "metadata": {
        "id": "3Upxv2pKQcnR"
      },
      "source": [
        "capitals=(\"US\":\"Was,DC\",\"Fr\":\"Pa\",\"Italy\":\"\");"
      ],
      "execution_count": null,
      "outputs": []
    }
  ]
}